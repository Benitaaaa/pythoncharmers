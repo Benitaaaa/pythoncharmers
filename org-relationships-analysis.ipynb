{
 "cells": [
  {
   "cell_type": "markdown",
   "id": "cd111c56",
   "metadata": {},
   "source": [
    "# Organization Relationships Analysis"
   ]
  },
  {
   "cell_type": "code",
   "execution_count": 1,
   "id": "4eea3dc8",
   "metadata": {},
   "outputs": [],
   "source": [
    "#!pip install numpy\n"
   ]
  },
  {
   "cell_type": "code",
   "execution_count": 14,
   "id": "756f761f",
   "metadata": {},
   "outputs": [],
   "source": [
    "#!pip install pymupdf"
   ]
  },
  {
   "cell_type": "code",
   "execution_count": 17,
   "id": "c6d49c2a",
   "metadata": {},
   "outputs": [],
   "source": [
    "import fitz  # PyMuPDF\n",
    "import spacy\n",
    "import pandas as pd\n",
    "import os\n",
    "import json\n",
    "from tqdm import tqdm\n",
    "import networkx as nx\n",
    "from pyvis.network import Network\n",
    "from transformers import pipeline"
   ]
  },
  {
   "cell_type": "code",
   "execution_count": 19,
   "id": "e2f5ec03",
   "metadata": {},
   "outputs": [
    {
     "data": {
      "application/vnd.jupyter.widget-view+json": {
       "model_id": "3f682cf4386e4ddc87128d113be72e3e",
       "version_major": 2,
       "version_minor": 0
      },
      "text/plain": [
       "config.json:   0%|          | 0.00/929 [00:00<?, ?B/s]"
      ]
     },
     "metadata": {},
     "output_type": "display_data"
    },
    {
     "data": {
      "application/vnd.jupyter.widget-view+json": {
       "model_id": "b373aa0b82a040999f54e9c35b243c8d",
       "version_major": 2,
       "version_minor": 0
      },
      "text/plain": [
       "pytorch_model.bin:   0%|          | 0.00/501M [00:00<?, ?B/s]"
      ]
     },
     "metadata": {},
     "output_type": "display_data"
    },
    {
     "name": "stderr",
     "output_type": "stream",
     "text": [
      "Some weights of the model checkpoint at cardiffnlp/twitter-roberta-base-sentiment-latest were not used when initializing RobertaForSequenceClassification: ['roberta.pooler.dense.bias', 'roberta.pooler.dense.weight']\n",
      "- This IS expected if you are initializing RobertaForSequenceClassification from the checkpoint of a model trained on another task or with another architecture (e.g. initializing a BertForSequenceClassification model from a BertForPreTraining model).\n",
      "- This IS NOT expected if you are initializing RobertaForSequenceClassification from the checkpoint of a model that you expect to be exactly identical (initializing a BertForSequenceClassification model from a BertForSequenceClassification model).\n"
     ]
    },
    {
     "data": {
      "application/vnd.jupyter.widget-view+json": {
       "model_id": "0d8a971c0a284ddabb2a339e9f32e964",
       "version_major": 2,
       "version_minor": 0
      },
      "text/plain": [
       "vocab.json:   0%|          | 0.00/899k [00:00<?, ?B/s]"
      ]
     },
     "metadata": {},
     "output_type": "display_data"
    },
    {
     "data": {
      "application/vnd.jupyter.widget-view+json": {
       "model_id": "504d55bf59534de6838704cdaf57a165",
       "version_major": 2,
       "version_minor": 0
      },
      "text/plain": [
       "merges.txt:   0%|          | 0.00/456k [00:00<?, ?B/s]"
      ]
     },
     "metadata": {},
     "output_type": "display_data"
    },
    {
     "data": {
      "application/vnd.jupyter.widget-view+json": {
       "model_id": "f6c6745a1c544cb3876aa49b609029e2",
       "version_major": 2,
       "version_minor": 0
      },
      "text/plain": [
       "model.safetensors:   0%|          | 0.00/501M [00:00<?, ?B/s]"
      ]
     },
     "metadata": {},
     "output_type": "display_data"
    },
    {
     "data": {
      "application/vnd.jupyter.widget-view+json": {
       "model_id": "d12a1f5ab98b44fc9404e1baa2aad0b3",
       "version_major": 2,
       "version_minor": 0
      },
      "text/plain": [
       "special_tokens_map.json:   0%|          | 0.00/239 [00:00<?, ?B/s]"
      ]
     },
     "metadata": {},
     "output_type": "display_data"
    },
    {
     "name": "stderr",
     "output_type": "stream",
     "text": [
      "Device set to use mps:0\n"
     ]
    }
   ],
   "source": [
    "# Load spaCy model for named entity recognition (NER)\n",
    "nlp = spacy.load(\"en_core_web_sm\")\n",
    "\n",
    "# Load RoBERTa sentiment analysis model\n",
    "sentiment_pipeline = pipeline(\"text-classification\", model=\"cardiffnlp/twitter-roberta-base-sentiment-latest\")\n",
    "\n",
    "\n",
    "# Configuration\n",
    "CONFIG = {\n",
    "    \"paths\": {\n",
    "        \"pdf_dir\": \"./pdfs\",  # Directory containing PDFs\n",
    "        \"output_json\": \"./processed/organizations-relationships.csv\",  # Output JSON file\n",
    "    }\n",
    "}"
   ]
  },
  {
   "cell_type": "code",
   "execution_count": 49,
   "id": "6e78c706",
   "metadata": {},
   "outputs": [],
   "source": [
    "# Function to extract text from PDFs\n",
    "def extract_text_from_pdfs(pdf_dir):\n",
    "    texts = []\n",
    "    file_sources = []\n",
    "    for filename in os.listdir(pdf_dir):\n",
    "        if filename.endswith(\".pdf\"):\n",
    "            filepath = os.path.join(pdf_dir, filename)\n",
    "            with fitz.open(filepath) as doc:\n",
    "                text = \"\\n\".join([page.get_text(\"text\") for page in doc])\n",
    "                texts.append((text, filename))  # Store text with filename\n",
    "    return texts\n",
    "\n",
    "# Function to extract organization names and relationships\n",
    "def extract_relationships(text, filename):\n",
    "    doc = nlp(text)\n",
    "    relationships = []\n",
    "    full_relationships = []  # Store extra details separately\n",
    "    \n",
    "    for sent in doc.sents:\n",
    "        orgs = [ent.text for ent in sent.ents if ent.label_ == \"ORG\"]\n",
    "        \n",
    "        if len(orgs) >= 2:\n",
    "            sentiment_result = sentiment_pipeline(sent.text[:512])[0][\"label\"]\n",
    "            sentiment_label = \"neutral\" if sentiment_result == \"neutral\" else sentiment_result\n",
    "            \n",
    "            # Store only (org1, org2) for visualization\n",
    "            relationships.append((orgs[0], orgs[1]))\n",
    "\n",
    "            # Store full details separately\n",
    "            full_relationships.append([\n",
    "                orgs[0], orgs[1], sent.text.strip(), sentiment_label, filename\n",
    "            ])\n",
    "\n",
    "    return relationships, full_relationships\n",
    "\n",
    "\n",
    "# Function to save relationships as CSV\n",
    "def save_relationships_to_csv(relationships, output_path):\n",
    "    df = pd.DataFrame(relationships, columns=[\"source\", \"target\", \"sentence\", \"sentiment\", \"source_file\"])\n",
    "    df.to_csv(output_path, index=False)\n",
    "\n",
    "# Function to visualize organization relationships\n",
    "def visualize_relationships(relationships):\n",
    "    G = nx.Graph()\n",
    "    for rel in relationships:\n",
    "        if isinstance(rel, (list, tuple)) and len(rel) == 2:\n",
    "            org1, org2 = rel\n",
    "            G.add_edge(org1, org2)\n",
    "        else:\n",
    "            print(f\"Skipping invalid relationship: {rel}\")  # Debugging statement\n",
    "    net = Network(notebook=True, directed=False)\n",
    "    net.from_nx(G)\n",
    "    net.show(\"organization_network.html\")\n"
   ]
  },
  {
   "cell_type": "code",
   "execution_count": 55,
   "id": "3a642438",
   "metadata": {},
   "outputs": [
    {
     "name": "stdout",
     "output_type": "stream",
     "text": [
      "Warning: When  cdn_resources is 'local' jupyter notebook has issues displaying graphics on chrome/safari. Use cdn_resources='in_line' or cdn_resources='remote' if you have issues viewing graphics in a notebook.\n",
      "organization_network.html\n"
     ]
    }
   ],
   "source": [
    "all_relationships = []\n",
    "detailed_relationships = []\n",
    "\n",
    "for text, filename in texts_with_sources:\n",
    "    simple_rels, full_rels = extract_relationships(text, filename)  # ✅ Unpack correctly\n",
    "\n",
    "    for rel in simple_rels:  # ✅ Only process (org1, org2) pairs\n",
    "        if not isinstance(rel, (list, tuple)) or len(rel) != 2:\n",
    "            print(f\"Invalid relationship found and skipped: {rel}\")\n",
    "    \n",
    "    all_relationships.extend(simple_rels)  # ✅ Append only valid (org1, org2) pairs\n",
    "    detailed_relationships.extend(full_rels)  # ✅ Store full details separately\n",
    "\n",
    "# Save full relationships to CSV if needed\n",
    "## save_relationships_to_csv(detailed_relationships, CONFIG[\"paths\"][\"output_csv\"])\n",
    "\n",
    "visualize_relationships(all_relationships)\n",
    "\n"
   ]
  },
  {
   "cell_type": "code",
   "execution_count": 56,
   "id": "b8a7cb68-a420-4ed6-b175-a31ccc2e7cba",
   "metadata": {},
   "outputs": [],
   "source": [
    "###all_relationships"
   ]
  },
  {
   "cell_type": "code",
   "execution_count": null,
   "id": "76e29904-e7f6-4824-9c6b-7c126416e80a",
   "metadata": {},
   "outputs": [],
   "source": []
  }
 ],
 "metadata": {
  "kernelspec": {
   "display_name": "Python [conda env:base] *",
   "language": "python",
   "name": "conda-base-py"
  },
  "language_info": {
   "codemirror_mode": {
    "name": "ipython",
    "version": 3
   },
   "file_extension": ".py",
   "mimetype": "text/x-python",
   "name": "python",
   "nbconvert_exporter": "python",
   "pygments_lexer": "ipython3",
   "version": "3.12.2"
  }
 },
 "nbformat": 4,
 "nbformat_minor": 5
}
